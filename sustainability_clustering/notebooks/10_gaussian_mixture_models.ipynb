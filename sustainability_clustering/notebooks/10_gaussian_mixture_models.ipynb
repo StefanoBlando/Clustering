# =============================================================================
# MODULO CROSS-DATASET 5: GAUSSIAN MIXTURE MODELS (GMM)
# Model-based clustering con selezione automatica componenti
# =============================================================================

import pandas as pd
import numpy as np
from sklearn.mixture import GaussianMixture, BayesianGaussianMixture
from sklearn.preprocessing import StandardScaler
from sklearn.metrics import silhouette_score, calinski_harabasz_score
import warnings
warnings.filterwarnings('ignore')

print("=== MODULO CROSS-DATASET 5: GAUSSIAN MIXTURE MODELS ===")

# Parametri GMM
n_components_range = range(2, 8)
covariance_types = ['full', 'tied', 'diag', 'spherical']

gmm_results = []
bgmm_results = []

print(f"GMM parameters:")
print(f"Components range: {list(n_components_range)}")
print(f"Covariance types: {covariance_types}")

for dataset_name, data in datasets.items():
    print(f"\nTesting {dataset_name}...")
    
    # Standardizzazione
    scaler = StandardScaler()
    data_scaled = scaler.fit_transform(data)
    
    # Standard Gaussian Mixture Models
    print("  GMM Standard:")
    for covariance_type in covariance_types:
        for n_components in n_components_range:
            try:
                gmm = GaussianMixture(
                    n_components=n_components,
                    covariance_type=covariance_type,
                    random_state=42,
                    max_iter=200,
                    n_init=3
                )
                
                gmm.fit(data_scaled)
                
                labels = gmm.predict(data_scaled)
                n_unique = len(np.unique(labels))
                
                if n_unique == n_components and gmm.converged_:
                    silhouette = silhouette_score(data_scaled, labels)
                    calinski_harabasz = calinski_harabasz_score(data_scaled, labels)
                    bic = gmm.bic(data_scaled)
                    aic = gmm.aic(data_scaled)
                    log_likelihood = gmm.score(data_scaled)
                    
                    gmm_results.append({
                        'Dataset': dataset_name,
                        'Model': 'GMM',
                        'N_components': n_components,
                        'Covariance': covariance_type,
                        'Silhouette': silhouette,
                        'Calinski_Harabasz': calinski_harabasz,
                        'BIC': bic,
                        'AIC': aic,
                        'Log_Likelihood': log_likelihood,
                        'Converged': gmm.converged_,
                        'N_Features': data.shape[1]
                    })
                    
                    print(f"    {covariance_type} K={n_components}: Sil={silhouette:.3f}, BIC={bic:.0f}")
                    
                else:
                    if not gmm.converged_:
                        print(f"    {covariance_type} K={n_components}: Non convergente")
                    else:
                        print(f"    {covariance_type} K={n_components}: Solo {n_unique} componenti")
                        
            except Exception as e:
                print(f"    {covariance_type} K={n_components}: Errore - {str(e)[:50]}")
    
    # Bayesian Gaussian Mixture Models
    print("  BGMM Bayesian:")
    for covariance_type in ['full', 'diag']:  # Ridotto per velocità
        for n_components in [3, 5, 7, 10]:  # Test anche K più alti
            try:
                bgmm = BayesianGaussianMixture(
                    n_components=n_components,
                    covariance_type=covariance_type,
                    random_state=42,
                    max_iter=200,
                    n_init=2
                )
                
                bgmm.fit(data_scaled)
                
                labels = bgmm.predict(data_scaled)
                n_unique = len(np.unique(labels))
                n_active = np.sum(bgmm.weights_ > 0.01)  # Componenti attive
                
                if n_unique >= 2 and bgmm.converged_:
                    silhouette = silhouette_score(data_scaled, labels)
                    calinski_harabasz = calinski_harabasz_score(data_scaled, labels)
                    
                    bgmm_results.append({
                        'Dataset': dataset_name,
                        'Model': 'BGMM',
                        'N_components': n_components,
                        'N_active': n_active,
                        'N_unique': n_unique,
                        'Covariance': covariance_type,
                        'Silhouette': silhouette,
                        'Calinski_Harabasz': calinski_harabasz,
                        'Converged': bgmm.converged_,
                        'N_Features': data.shape[1]
                    })
                    
                    print(f"    BGMM {covariance_type} K={n_components}→{n_active}: Sil={silhouette:.3f}, clusters={n_unique}")
                    
                else:
                    print(f"    BGMM {covariance_type} K={n_components}: Non valido o non convergente")
                        
            except Exception as e:
                print(f"    BGMM {covariance_type} K={n_components}: Errore - {str(e)[:50]}")

# Combina risultati
gmm_df = pd.DataFrame(gmm_results)
bgmm_df = pd.DataFrame(bgmm_results)

print(f"\nRisultati GMM: {len(gmm_df)}")
print(f"Risultati BGMM: {len(bgmm_df)}")

if len(gmm_df) > 0:
    print(f"\n=== Analisi GMM Results ===")
    
    # Migliori per dataset (GMM)
    print("Migliori Silhouette GMM per dataset:")
    for dataset_name in datasets.keys():
        dataset_results = gmm_df[gmm_df['Dataset'] == dataset_name]
        if len(dataset_results) > 0:
            best_row = dataset_results.loc[dataset_results['Silhouette'].idxmax()]
            print(f"  {dataset_name}: {best_row['Covariance']} K={best_row['N_components']}, "
                  f"Sil={best_row['Silhouette']:.3f}, BIC={best_row['BIC']:.0f}")

    # Top 10 GMM
    print(f"\nTop 10 GMM (tutti dataset):")
    top_gmm = gmm_df.nlargest(10, 'Silhouette')
    for _, row in top_gmm.iterrows():
        print(f"  {row['Dataset']} {row['Covariance']} K={row['N_components']}: "
              f"Sil={row['Silhouette']:.3f}, BIC={row['BIC']:.0f}")

if len(bgmm_df) > 0:
    print(f"\n=== Analisi BGMM Results ===")
    
    # Migliori BGMM per dataset  
    print("Migliori Silhouette BGMM per dataset:")
    for dataset_name in datasets.keys():
        dataset_results = bgmm_df[bgmm_df['Dataset'] == dataset_name]
        if len(dataset_results) > 0:
            best_row = dataset_results.loc[dataset_results['Silhouette'].idxmax()]
            print(f"  {dataset_name}: {best_row['Covariance']} K={best_row['N_components']}→{best_row['N_active']}, "
                  f"Sil={best_row['Silhouette']:.3f}")

    # Top 10 BGMM
    print(f"\nTop 10 BGMM (tutti dataset):")
    top_bgmm = bgmm_df.nlargest(10, 'Silhouette')
    for _, row in top_bgmm.iterrows():
        print(f"  {row['Dataset']} {row['Covariance']} K={row['N_components']}→{row['N_active']}: "
              f"Sil={row['Silhouette']:.3f}, clusters={row['N_unique']}")

print("=== GMM Completato - Procedo con riepilogo finale ===")
