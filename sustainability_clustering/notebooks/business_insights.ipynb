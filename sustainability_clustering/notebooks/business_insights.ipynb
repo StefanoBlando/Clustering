# =============================================================================
# MODULO INTERPRETAZIONE BUSINESS MULTI-PROSPETTIVA
# Profiling e insights business per tutti i metodi clustering validati
# =============================================================================

import pandas as pd
import numpy as np
import matplotlib.pyplot as plt
import seaborn as sns
from sklearn.preprocessing import StandardScaler
import warnings
warnings.filterwarnings('ignore')

print("=== MODULO INTERPRETAZIONE BUSINESS MULTI-PROSPETTIVA ===")

# =============================================================================
# STEP 1: CARICAMENTO DATI E CLUSTER ASSIGNMENTS
# =============================================================================

print("\n=== STEP 1: Preparazione dati per interpretazione ===")

# Carica dataset originale per profiling demografico/attitudinale
df_original = pd.read_excel('Questionario Sostenibilità 1 1.xlsx', 
                           sheet_name='Questionario Sostenibilità')

# Definizione dei metodi da interpretare con i loro cluster
interpretation_methods = {
    'MCA_KMeans_Validato': {
        'file': 'modulo6_mca_results_complete.csv',
        'cluster_col': 'mca_cluster',
        'n_clusters': 3,
        'perspective': 'Socioeconomico-Demografica Validata',
        'silhouette': 0.405,
        'validation_score': 0.506
    },
    'MCA_Hierarchical_MaxPerf': {
        'file': 'modulo5_hierarchical_results.csv', 
        'cluster_col': 'hier_cluster',
        'n_clusters': 2,
        'perspective': 'Divisione Binaria Performance Massima',
        'silhouette': 0.606,
        'validation_score': 0.491
    },
    'Factor_Analysis_Attitudinale': {
        'file': 'modulo8_factor_analysis_results.csv',
        'cluster_col': 'factor_cluster', 
        'n_clusters': 6,
        'perspective': 'Segmentazione Attitudinale Pura',
        'silhouette': 0.263,
        'validation_score': 0.308
    },
    'MCA_Original_Socioeconomico': {
        'file': 'modulo6_mca_results_complete.csv',
        'cluster_col': 'mca_cluster',
        'n_clusters': 3,
        'perspective': 'Socioeconomica Classica', 
        'silhouette': 0.427,
        'validation_score': None
    }
}

# Carica assignments cluster per ogni metodo
cluster_assignments = {}
method_data = {}

for method_name, method_info in interpretation_methods.items():
    try:
        df_method = pd.read_csv(method_info['file'])
        if method_info['cluster_col'] in df_method.columns:
            assignments = df_method[method_info['cluster_col']].values
            cluster_assignments[method_name] = assignments[:len(df_original)]
            method_data[method_name] = method_info
            print(f"{method_name}: Caricato - {len(np.unique(assignments))} cluster")
        else:
            print(f"{method_name}: Colonna {method_info['cluster_col']} non trovata")
    except FileNotFoundError:
        print(f"{method_name}: File {method_info['file']} non trovato")

print(f"Metodi caricati per interpretazione: {len(cluster_assignments)}")

# =============================================================================
# STEP 2: PROFILING DEMOGRAFICO MULTI-METODO
# =============================================================================

print(f"\n=== STEP 2: Profiling demografico comparativo ===")

def create_demographic_profile(df, cluster_labels, method_name, n_clusters):
    """Crea profilo demografico dettagliato per un metodo clustering"""
    
    profiles = []
    
    for cluster_id in range(n_clusters):
        cluster_data = df[cluster_labels == cluster_id]
        n_obs = len(cluster_data)
        
        if n_obs == 0:
            continue
            
        profile = {
            'Method': method_name,
            'Cluster': cluster_id,
            'N_Obs': n_obs,
            'Percentage': n_obs / len(df) * 100,
            
            # Demografia base
            'Eta_Media': cluster_data['q1'].mean() if 'q1' in cluster_data.columns else 0,
            'Donne_Pct': (cluster_data['q2'] == 'Donna').mean() * 100 if 'q2' in cluster_data.columns else 0,
            
            # Educazione
            'Magistrale_Pct': (cluster_data['q3'] == 'Laurea Magistrale').mean() * 100 if 'q3' in cluster_data.columns else 0,
            'PostLaurea_Pct': (cluster_data['q3'] == 'Formazione Post Laurea (Master/Dottorato)').mean() * 100 if 'q3' in cluster_data.columns else 0,
            
            # Occupazione  
            'Studenti_Pct': (cluster_data['q4'] == 'Studente/ Studentessa').mean() * 100 if 'q4' in cluster_data.columns else 0,
            'Dipendenti_Privati_Pct': (cluster_data['q4'] == 'Lavoro dipendente privato').mean() * 100 if 'q4' in cluster_data.columns else 0,
            'Dipendenti_Pubblici_Pct': (cluster_data['q4'] == 'Lavoro dipendente pubblico').mean() * 100 if 'q4' in cluster_data.columns else 0,
            
            # Geografia
            'Nord_Pct': cluster_data['q5'].isin(['Nord Est', 'Nord Ovest']).mean() * 100 if 'q5' in cluster_data.columns else 0,
            'Centro_Pct': (cluster_data['q5'] == 'Centro').mean() * 100 if 'q5' in cluster_data.columns else 0,
            'Sud_Isole_Pct': cluster_data['q5'].isin(['Sud', 'Isole']).mean() * 100 if 'q5' in cluster_data.columns else 0,
            
            # Reddito
            'Reddito_Alto_Pct': cluster_data['q6'].isin(['30001 - 50000', 'Più di 50000']).mean() * 100 if 'q6' in cluster_data.columns else 0,
            'Reddito_Basso_Pct': (cluster_data['q6'] == 'Meno di 15000').mean() * 100 if 'q6' in cluster_data.columns else 0
        }
        
        profiles.append(profile)
    
    return profiles

# Genera profili demografici per tutti i metodi
all_demographic_profiles = []

for method_name, assignments in cluster_assignments.items():
    method_info = method_data[method_name]
    profiles = create_demographic_profile(df_original, assignments, method_name, method_info['n_clusters'])
    all_demographic_profiles.extend(profiles)

demographic_df = pd.DataFrame(all_demographic_profiles)

# Visualizzazione profili demografici
print("Profili demografici generati per interpretazione business")

# =============================================================================
# STEP 3: PROFILING ATTITUDINALE SOSTENIBILITÀ
# =============================================================================

print(f"\n=== STEP 3: Profiling attitudinale sostenibilità ===")

def create_sustainability_profile(df, cluster_labels, method_name, n_clusters):
    """Crea profilo attitudinale sostenibilità per un metodo clustering"""
    
    profiles = []
    
    # Variabili Likert attitudinali chiave
    likert_vars = ['q7', 'q8', 'q9', 'q10', 'q11', 'q12', 'q13', 'q14', 
                   'q16', 'q18', 'q19', 'q20', 'q21', 'q23', 'q24', 'q29']
    existing_likert = [var for var in likert_vars if var in df.columns]
    
    # Variabili comportamentali
    behavior_vars = ['q15', 'q17', 'q27']  # Frequenze comportamento
    existing_behavior = [var for var in behavior_vars if var in df.columns]
    
    for cluster_id in range(n_clusters):
        cluster_data = df[cluster_labels == cluster_id]
        n_obs = len(cluster_data)
        
        if n_obs == 0:
            continue
            
        # Atteggiamenti medi Likert
        likert_means = {}
        for var in existing_likert:
            likert_means[f'{var}_mean'] = cluster_data[var].mean()
        
        # Comportamenti - converti in score numerico  
        behavior_scores = {}
        freq_mapping = {'Mai': 1, 'Raramente': 2, 'Qualche volta': 3, 'Spesso': 4, 'Sempre': 5}
        
        for var in existing_behavior:
            if var in cluster_data.columns:
                numeric_values = cluster_data[var].map(freq_mapping).fillna(3)
                behavior_scores[f'{var}_behavior'] = numeric_values.mean()
        
        # Trasporto sostenibile
        trasporto_sostenibile = 0
        if 'q22' in cluster_data.columns:
            trasporto_sostenibile = cluster_data['q22'].isin(['Bicicletta o a piedi', 'Mezzo privato (ibrido/elettrico)']).mean() * 100
        
        # Ostacoli principali
        ostacolo_principale = 'N/A'
        if 'q25' in cluster_data.columns:
            ostacolo_principale = cluster_data['q25'].mode().iloc[0] if len(cluster_data['q25'].mode()) > 0 else 'N/A'
        
        # Responsabilità percepita
        responsabilita_principale = 'N/A'
        if 'q26' in cluster_data.columns:
            responsabilita_principale = cluster_data['q26'].mode().iloc[0] if len(cluster_data['q26'].mode()) > 0 else 'N/A'
        
        profile = {
            'Method': method_name,
            'Cluster': cluster_id,
            'N_Obs': n_obs,
            
            # Atteggiamenti generali (sample key)
            'Atteggiamento_Generale': np.mean([likert_means.get(f'{var}_mean', 4) for var in ['q8', 'q13', 'q19']]),
            'Fiducia_Efficacia': likert_means.get('q21_mean', 4),
            'Priorita_Ambiente': likert_means.get('q7_mean', 4),
            
            # Comportamenti
            'Comportamento_Medio': np.mean([behavior_scores.get(f'{var}_behavior', 3) for var in existing_behavior]),
            'Trasporto_Sostenibile_Pct': trasporto_sostenibile,
            
            # Barriere e responsabilità
            'Ostacolo_Principale': ostacolo_principale,
            'Responsabilita_Vista': responsabilita_principale
        }
        
        # Aggiungi tutti i Likert per analisi dettagliata
        profile.update(likert_means)
        profile.update(behavior_scores)
        
        profiles.append(profile)
    
    return profiles

# Genera profili sostenibilità per tutti i metodi
all_sustainability_profiles = []

for method_name, assignments in cluster_assignments.items():
    method_info = method_data[method_name]
    profiles = create_sustainability_profile(df_original, assignments, method_name, method_info['n_clusters'])
    all_sustainability_profiles.extend(profiles)

sustainability_df = pd.DataFrame(all_sustainability_profiles)

print("Profili sostenibilità generati per interpretazione business")

print("=== Continua con interpretazione business e insights ===")

# =============================================================================
# STEP 4: INTERPRETAZIONE BUSINESS PER METODO
# =============================================================================

print(f"\n=== STEP 4: Interpretazione business dettagliata per metodo ===")

def generate_business_interpretation(method_name, demographic_profiles, sustainability_profiles, method_info):
    """Genera interpretazione business completa per un metodo clustering"""
    
    interpretation = {
        'method': method_name,
        'perspective': method_info['perspective'],
        'performance_metrics': {
            'silhouette': method_info['silhouette'],
            'validation_score': method_info.get('validation_score', 'N/A')
        },
        'clusters': [],
        'business_implications': [],
        'strategic_recommendations': []
    }
    
    # Profili per cluster di questo metodo
    demo_profiles = [p for p in demographic_profiles if p['Method'] == method_name]
    sust_profiles = [p for p in sustainability_profiles if p['Method'] == method_name]
    
    # Genera interpretazione per ogni cluster
    for demo_profile in demo_profiles:
        cluster_id = demo_profile['Cluster']
        sust_profile = next((s for s in sust_profiles if s['Cluster'] == cluster_id), {})
        
        # Demografia chiave
        size_pct = demo_profile['Percentage']
        dominant_gender = "Donne" if demo_profile['Donne_Pct'] > 60 else "Uomini" if demo_profile['Donne_Pct'] < 40 else "Misto"
        education_level = "Alta" if demo_profile['Magistrale_Pct'] + demo_profile['PostLaurea_Pct'] > 60 else "Media" if demo_profile['Magistrale_Pct'] > 30 else "Base"
        income_level = "Alto" if demo_profile['Reddito_Alto_Pct'] > 40 else "Basso" if demo_profile['Reddito_Basso_Pct'] > 40 else "Medio"
        
        # Atteggiamenti sostenibilità
        att_generale = sust_profile.get('Atteggiamento_Generale', 4.0)
        comportamento_medio = sust_profile.get('Comportamento_Medio', 3.0)
        trasporto_sost = sust_profile.get('Trasporto_Sostenibile_Pct', 20)
        
        # Classificazione attitudinale
        if att_generale > 6.0:
            attitude_class = "Eco-Attivisti"
        elif att_generale > 5.5:
            attitude_class = "Pro-Ambiente"
        elif att_generale > 4.5:
            attitude_class = "Moderati"
        else:
            attitude_class = "Scettici"
        
        # Classificazione comportamentale
        if comportamento_medio > 4.0:
            behavior_class = "Altamente Attivi"
        elif comportamento_medio > 3.5:
            behavior_class = "Moderatamente Attivi"
        elif comportamento_medio > 2.5:
            behavior_class = "Occasionalmente Attivi"
        else:
            behavior_class = "Poco Attivi"
        
        # Etichetta cluster business
        if size_pct > 40:
            size_desc = "Maggioranza"
        elif size_pct > 25:
            size_desc = "Gruppo Rilevante"
        elif size_pct > 15:
            size_desc = "Segmento Specifico"
        else:
            size_desc = "Nicchia"
        
        cluster_label = f"{attitude_class} {dominant_gender} {education_level}"
        
        cluster_interpretation = {
            'cluster_id': cluster_id,
            'size_percentage': size_pct,
            'size_description': size_desc,
            'label': cluster_label,
            'demographics': {
                'dominant_gender': dominant_gender,
                'education_level': education_level,
                'income_level': income_level,
                'age_avg': demo_profile['Eta_Media'],
                'students_pct': demo_profile['Studenti_Pct']
            },
            'sustainability_profile': {
                'attitude_class': attitude_class,
                'behavior_class': behavior_class,
                'attitude_score': att_generale,
                'behavior_score': comportamento_medio,
                'sustainable_transport_pct': trasporto_sost,
                'main_barrier': sust_profile.get('Ostacolo_Principale', 'N/A'),
                'responsibility_view': sust_profile.get('Responsabilita_Vista', 'N/A')
            }
        }
        
        interpretation['clusters'].append(cluster_interpretation)
    
    return interpretation

# Genera interpretazioni per tutti i metodi
business_interpretations = {}

for method_name, assignments in cluster_assignments.items():
    method_info = method_data[method_name]
    demo_profiles = [p for p in all_demographic_profiles if p['Method'] == method_name]
    sust_profiles = [p for p in all_sustainability_profiles if p['Method'] == method_name]
    
    interpretation = generate_business_interpretation(method_name, demo_profiles, sust_profiles, method_info)
    business_interpretations[method_name] = interpretation

# =============================================================================
# STEP 5: INSIGHTS STRATEGICI PER METODO
# =============================================================================

print(f"\n=== STEP 5: Insights strategici e raccomandazioni ===")

def generate_strategic_insights(interpretation):
    """Genera insights strategici basati sui cluster identificati"""
    
    method_name = interpretation['method']
    clusters = interpretation['clusters']
    
    insights = {
        'marketing_strategies': [],
        'product_positioning': [],
        'communication_approaches': [],
        'policy_implications': [],
        'business_opportunities': []
    }
    
    for cluster in clusters:
        cluster_id = cluster['cluster_id']
        label = cluster['label']
        demographics = cluster['demographics']
        sustainability = cluster['sustainability_profile']
        size_pct = cluster['size_percentage']
        
        # Marketing strategies
        if sustainability['attitude_class'] in ['Eco-Attivisti', 'Pro-Ambiente']:
            if demographics['income_level'] == 'Alto':
                insights['marketing_strategies'].append({
                    'cluster': label,
                    'strategy': 'Premium Green Products',
                    'description': f"Target {label} ({size_pct:.1f}%) con prodotti sostenibili premium, enfatizzare qualità e impatto ambientale"
                })
            else:
                insights['marketing_strategies'].append({
                    'cluster': label,
                    'strategy': 'Affordable Green Options', 
                    'description': f"Offrire al {label} ({size_pct:.1f}%) opzioni sostenibili accessibili, enfatizzare rapporto qualità-prezzo"
                })
        elif sustainability['attitude_class'] == 'Moderati':
            insights['marketing_strategies'].append({
                'cluster': label,
                'strategy': 'Education & Incentives',
                'description': f"Educare {label} ({size_pct:.1f}%) sui benefici sostenibilità, usare incentivi economici"
            })
        else:  # Scettici
            insights['marketing_strategies'].append({
                'cluster': label,
                'strategy': 'Practical Benefits Focus',
                'description': f"Per {label} ({size_pct:.1f}%) enfatizzare benefici pratici/economici, non ambientali"
            })
        
        # Product positioning  
        if sustainability['behavior_class'] in ['Altamente Attivi', 'Moderatamente Attivi']:
            insights['product_positioning'].append({
                'cluster': label,
                'positioning': 'Performance & Sustainability',
                'description': f"{label} ({size_pct:.1f}%) apprezza prodotti che combinano performance e sostenibilità"
            })
        else:
            insights['product_positioning'].append({
                'cluster': label, 
                'positioning': 'Cost-Effectiveness',
                'description': f"{label} ({size_pct:.1f}%) prioritizza efficienza costi, sostenibilità come bonus"
            })
        
        # Communication approaches
        if demographics['education_level'] == 'Alta':
            comm_style = "Tecnico-Scientifico"
            comm_desc = "Usare dati, ricerche, evidenze scientifiche"
        elif demographics['education_level'] == 'Media':
            comm_style = "Pratico-Concreto"
            comm_desc = "Esempi pratici, benefici tangibili, testimonial"
        else:
            comm_style = "Semplice-Emotivo"
            comm_desc = "Messaggi semplici, storie personali, impatto emotivo"
        
        insights['communication_approaches'].append({
            'cluster': label,
            'style': comm_style,
            'description': f"Per {label} ({size_pct:.1f}%): {comm_desc}"
        })
        
        # Policy implications
        if sustainability['main_barrier'] == 'I costi più elevati':
            insights['policy_implications'].append({
                'cluster': label,
                'policy': 'Incentivi Economici',
                'description': f"{label} ({size_pct:.1f}%) necessita sussidi/detrazioni per adozione sostenibile"
            })
        elif 'sfiducia' in sustainability['main_barrier'].lower():
            insights['policy_implications'].append({
                'cluster': label,
                'policy': 'Trasparenza & Educazione',
                'description': f"{label} ({size_pct:.1f}%) necessita campagne educative e certificazioni affidabili"
            })
    
    return insights

# Genera insights per tutti i metodi
all_strategic_insights = {}

for method_name, interpretation in business_interpretations.items():
    insights = generate_strategic_insights(interpretation)
    all_strategic_insights[method_name] = insights
    business_interpretations[method_name]['strategic_insights'] = insights

# =============================================================================
# STEP 6: CONFRONTO MULTI-PROSPETTIVA
# =============================================================================

print(f"\n=== STEP 6: Confronto multi-prospettiva e sintesi ===")

def create_cross_method_comparison():
    """Confronta insights across metodi per identificare pattern comuni e divergenti"""
    
    comparison = {
        'convergent_insights': [],  # Pattern comuni tra metodi
        'divergent_perspectives': [],  # Differenze tra metodi
        'methodological_strengths': [],  # Punti di forza di ogni approccio
        'integrated_recommendations': []  # Raccomandazioni integrate
    }
    
    # Analizza pattern comuni
    all_clusters = []
    for method_name, interpretation in business_interpretations.items():
        for cluster in interpretation['clusters']:
            cluster_analysis = {
                'method': method_name,
                'attitude_class': cluster['sustainability_profile']['attitude_class'],
                'education_level': cluster['demographics']['education_level'],
                'income_level': cluster['demographics']['income_level'],
                'size_pct': cluster['size_percentage']
            }
            all_clusters.append(cluster_analysis)
    
    clusters_df = pd.DataFrame(all_clusters)
    
    # Pattern convergenti - gruppi che appaiono in multiple metodologie
    attitude_counts = clusters_df['attitude_class'].value_counts()
    education_counts = clusters_df['education_level'].value_counts()
    
    comparison['convergent_insights'] = [
        {
            'pattern': 'Segmentazione Attitudinale Robusta',
            'description': f"Tutti i metodi identificano gruppi Eco-Attivisti/Pro-Ambiente vs Moderati/Scettici",
            'evidence': f"Eco-Attivisti appaiono in {attitude_counts.get('Eco-Attivisti', 0) + attitude_counts.get('Pro-Ambiente', 0)} cluster"
        },
        {
            'pattern': 'Importanza Educazione',
            'description': f"Educazione alta correlata con atteggiamenti pro-ambiente across metodi",
            'evidence': f"Educazione Alta in {education_counts.get('Alta', 0)} cluster identificati"
        }
    ]
    
    # Divergenze metodologiche
    method_perspectives = {}
    for method_name, interpretation in business_interpretations.items():
        n_clusters = len(interpretation['clusters'])
        avg_size = np.mean([c['size_percentage'] for c in interpretation['clusters']])
        
        method_perspectives[method_name] = {
            'n_clusters': n_clusters,
            'avg_cluster_size': avg_size,
            'perspective': interpretation['perspective']
        }
    
    comparison['divergent_perspectives'] = [
        {
            'aspect': 'Granularità Segmentazione',
            'mca_kmeans': f"3 cluster bilanciati (~{method_perspectives.get('MCA_KMeans_Validato', {}).get('avg_cluster_size', 0):.0f}% each)",
            'hierarchical': f"2 cluster binari ({method_perspectives.get('MCA_Hierarchical_MaxPerf', {}).get('avg_cluster_size', 0):.0f}% avg)",
            'factor_analysis': f"6 cluster granulari ({method_perspectives.get('Factor_Analysis_Attitudinale', {}).get('avg_cluster_size', 0):.0f}% avg)",
            'implication': 'MCA offre balance, Hierarchical semplicità, Factor Analysis dettaglio'
        }
    ]
    
    return comparison

cross_method_comparison = create_cross_method_comparison()

# =============================================================================
# STEP 7: REPORT BUSINESS FINALE
# =============================================================================

print(f"\n=== STEP 7: Report business integrato ===")

def generate_executive_summary():
    """Genera executive summary con raccomandazioni integrate"""
    
    summary = {
        'key_findings': [],
        'strategic_priorities': [], 
        'implementation_roadmap': [],
        'success_metrics': []
    }
    
    # Key findings basati su validazione bootstrap
    winner_method = 'MCA_KMeans_Validato'
    winner_interpretation = business_interpretations[winner_method]
    
    summary['key_findings'] = [
        {
            'finding': 'Segmentazione Socioeconomica Dominante',
            'description': 'La segmentazione più robusta è basata su status socioeconomico, non solo atteggiamenti',
            'evidence': f"MCA K-Means validato (score {winner_interpretation['performance_metrics']['validation_score']}) identifica 3 cluster socioeconomici stabili"
        },
        {
            'finding': 'Atteggiamenti Correlati ma Non Determinanti',
            'description': 'Atteggiamenti pro-ambiente sono correlati con demografia ma non creano segmentazione autonoma forte',
            'evidence': 'Factor Analysis pura (0.263 silhouette) < MCA socioeconomica (0.405 silhouette)'
        },
        {
            'finding': 'Pattern Trasversali Multi-Metodo',
            'description': 'Tutti i metodi identificano divisione Eco-Attivisti vs Moderati, ma con diverse granularità',
            'evidence': 'Convergenza cross-metodologica su segmentazione attitudinale base'
        }
    ]
    
    # Strategic priorities dal metodo vincente
    winner_clusters = winner_interpretation['clusters']
    largest_cluster = max(winner_clusters, key=lambda x: x['size_percentage'])
    most_engaged = max(winner_clusters, key=lambda x: x['sustainability_profile']['attitude_score'])
    
    summary['strategic_priorities'] = [
        {
            'priority': f"Focus su {largest_cluster['label']} (Majority Segment)",
            'rationale': f"Rappresenta {largest_cluster['size_percentage']:.1f}% del mercato con {largest_cluster['sustainability_profile']['attitude_class']} attitudes",
            'actions': ['Sviluppo prodotti mainstream sostenibili', 'Pricing accessibile', 'Comunicazione pratica']
        },
        {
            'priority': f"Nurture {most_engaged['label']} (Early Adopters)",
            'rationale': f"Atteggiamenti più pro-ambiente ({most_engaged['sustainability_profile']['attitude_score']:.1f}/7) - influencers potenziali",
            'actions': ['Prodotti premium green', 'Programmi ambassador', 'Co-creation initiatives']
        }
    ]
    
    return summary

executive_summary = generate_executive_summary()

print("=== INTERPRETAZIONE BUSINESS MULTI-PROSPETTIVA COMPLETATA ===")

# Export tutti i risultati
import json

# Salva interpretazioni complete
with open('business_interpretations_complete.json', 'w') as f:
    json.dump(business_interpretations, f, indent=2, default=str)

# Salva confronto metodologico  
with open('cross_method_comparison.json', 'w') as f:
    json.dump(cross_method_comparison, f, indent=2, default=str)

# Salva executive summary
with open('executive_summary_integrated.json', 'w') as f:
    json.dump(executive_summary, f, indent=2, default=str)

print("\nFile generati:")
print("- business_interpretations_complete.json")
print("- cross_method_comparison.json") 
print("- executive_summary_integrated.json")

print(f"\n=== SINTESI FINALE MULTI-PROSPETTIVA ===")
print("CONVERGENZE: Segmentazione socioeconomica + attitudinale robusta")
print("DIVERGENZE: Granularità diverse tra metodi (2-6 cluster)")
print("VINCITORE BUSINESS: MCA K-Means per balance stabilità-interpretabilità")
print("APPLICAZIONE: Focus majority segment + nurture early adopters")
