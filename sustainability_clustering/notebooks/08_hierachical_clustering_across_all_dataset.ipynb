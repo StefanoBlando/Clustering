# =============================================================================
# MODULO CROSS-DATASET 2: HIERARCHICAL CLUSTERING SU TUTTI I DATASET
# Test Ward, Complete, Average linkage su tutti i preprocessing
# =============================================================================

import pandas as pd
import numpy as np
from sklearn.cluster import AgglomerativeClustering
from sklearn.preprocessing import StandardScaler
from sklearn.metrics import silhouette_score, calinski_harabasz_score
from scipy.cluster.hierarchy import dendrogram, linkage
import warnings
warnings.filterwarnings('ignore')

print("=== MODULO CROSS-DATASET 2: HIERARCHICAL CLUSTERING ===")

# Usa dataset dal modulo precedente (assumendo siano ancora in memoria)
# Se non disponibili, ricarica con stesso preprocessing

datasets_info = {
    'Original': '(151, 20) Mixed demo+likert',
    'Likert_Pure': '(151, 16) Likert 1-7 only', 
    'Factor_Scores': '(151, 3) FA factors',
    'MCA_Coords': '(151, 3) MCA coordinates',
    'SAS_Processed': '(151, 27) Feature-engineered'
}

# Linkage methods da testare
linkage_methods = ['ward', 'complete', 'average']
k_range = range(2, 8)

hierarchical_results = []

print(f"\n=== Testing Hierarchical Clustering ===")
print(f"Linkage methods: {linkage_methods}")
print(f"K range: {list(k_range)}")

for dataset_name, data in datasets.items():
    print(f"\nTesting {dataset_name}...")
    
    # Standardizzazione 
    scaler = StandardScaler()
    data_scaled = scaler.fit_transform(data)
    
    for linkage_method in linkage_methods:
        print(f"  Linkage: {linkage_method}")
        
        for k in k_range:
            try:
                # Hierarchical clustering
                if linkage_method == 'ward':
                    metric = 'euclidean'
                else:
                    metric = 'euclidean'  # Può essere cambiato
                
                hier_clust = AgglomerativeClustering(
                    n_clusters=k,
                    linkage=linkage_method, 
                    metric=metric
                )
                
                labels = hier_clust.fit_predict(data_scaled)
                
                # Verifica cluster effettivi
                n_unique = len(np.unique(labels))
                
                if n_unique == k:
                    silhouette = silhouette_score(data_scaled, labels)
                    calinski_harabasz = calinski_harabasz_score(data_scaled, labels)
                    
                    hierarchical_results.append({
                        'Dataset': dataset_name,
                        'Linkage': linkage_method,
                        'K': k,
                        'Silhouette': silhouette,
                        'Calinski_Harabasz': calinski_harabasz,
                        'N_Features': data.shape[1],
                        'N_Samples': data.shape[0]
                    })
                    
                    print(f"    K={k}: Sil={silhouette:.3f}, CH={calinski_harabasz:.1f}")
                else:
                    print(f"    K={k}: Solo {n_unique} cluster effettivi")
                    
            except Exception as e:
                print(f"    K={k}: Errore - {e}")

hier_df = pd.DataFrame(hierarchical_results)
print(f"\nRisultati Hierarchical totali: {len(hier_df)}")

# Analisi risultati
print(f"\n=== Analisi Hierarchical Results ===")

# Migliori per dataset
print("Migliori Silhouette per dataset:")
for dataset_name in datasets.keys():
    dataset_results = hier_df[hier_df['Dataset'] == dataset_name]
    if len(dataset_results) > 0:
        best_row = dataset_results.loc[dataset_results['Silhouette'].idxmax()]
        print(f"  {dataset_name}: {best_row['Linkage']} K={best_row['K']}, Sil={best_row['Silhouette']:.3f}")

# Top 10 complessivo
print(f"\nTop 10 Hierarchical (tutti dataset/linkage):")
top_hier = hier_df.nlargest(10, 'Silhouette')
for _, row in top_hier.iterrows():
    print(f"  {row['Dataset']} {row['Linkage']} K={row['K']}: Sil={row['Silhouette']:.3f}")

print("=== Continua con prossimo metodo ===")
